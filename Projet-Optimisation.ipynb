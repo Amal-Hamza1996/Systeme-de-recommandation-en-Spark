{
 "cells": [
  {
   "cell_type": "markdown",
   "metadata": {},
   "source": [
    "# Développement d'un algorithme en Spark"
   ]
  },
  {
   "cell_type": "markdown",
   "metadata": {},
   "source": [
    "# Objectif du Notebook\n",
    "Il s'agit de développer en Spark une méthode de gradient, dans le but de résoudre un problème de filtrage collaboratif, et de la comparer avec une méthode de la librairie MLIB. Ce Notebook a pour but le développement et la validation de l'approche, avant intégration et exploitation dans le cadre de l'infrastructure développée dans le projet. Pour information, de nombreuses versions de ce problème existent sur le web."
   ]
  },
  {
   "cell_type": "markdown",
   "metadata": {},
   "source": [
    "# Position du problème\n",
    "Nous avons à notre disposition un RDD \"ratings\" du type (userID, movieID, rating). Les données sont fournies par le fichier `ratings.dat`, stockées  au format ci-joint :\n",
    "```\n",
    "UserID::MovieID::Rating::Timestamp\n",
    "```\n",
    "\n",
    "Ce RDD peut être stocké dans une matrice $R$ où l'on trouve \"rating\" à l'intersection de la ligne \"userID\" et de la colonne \"movieID\".\n",
    "Si la matrice $R$ est de taille $m \\times  n$, nous cherchons $P \\in R^{m,k}$ et $Q \\in R^{n,k}$ telles que $R \\approx \\hat{R} = PQ^T$.\n",
    "Pour cela on considère le problème\n",
    "$$ \\min_{P,Q} \\sum_{i,j : r_{ij} \\text{existe}}  \\ell_{i,j}(R,P,Q), $$\n",
    "où\n",
    "$$  \\ell_{i,j}(R,P,Q)= \\left(r_{ij} - q_{j}^{\\top}p_{i}\\right)^2 + \\lambda(|| p_{i} ||^{2}_2 + || q_{j} ||^2_2 )  $$ et $(p_i)_{1\\leq i\\leq m}$ et $(q_j)_{1\\leq j\\leq n}$ sont les lignes des matrices $P$ et $Q$ respectivement. Le paramètre $\\lambda\\geq 0$ est un paramètre de régularisation.\n",
    "\n",
    "Le problème que nous résolvons ici est un problème dit de \"filtrage collaboratif\", qui permet d'apporter une solution possible du  problème Netflix.\n"
   ]
  },
  {
   "cell_type": "code",
   "execution_count": 1,
   "metadata": {},
   "outputs": [],
   "source": [
    "# Librairies\n",
    "import numpy as np\n",
    "from scipy import sparse\n",
    "\n",
    "# Environnement Spark \n",
    "from pyspark import SparkContext, SparkConf\n",
    "\n",
    "# A modifier/commenter selon votre configuration.\n",
    "# import os\n",
    "# os.environ['PYSPARK_PYTHON'] = 'C:/Users/YoussefBendagha/Anaconda3/pkgs/python-3.7.1-h33f27b4_3'\n",
    "\n",
    "conf = SparkConf()\n",
    "conf.setMaster(\"local[*]\")\n",
    "conf.setAppName(\"Matrix Factorization\")\n",
    "\n",
    "sc = SparkContext(conf = conf)\n"
   ]
  },
  {
   "cell_type": "markdown",
   "metadata": {},
   "source": [
    "#### Création du RDD et premières statistiques sur le jeu de données."
   ]
  },
  {
   "cell_type": "code",
   "execution_count": 2,
   "metadata": {},
   "outputs": [
    {
     "name": "stdout",
     "output_type": "stream",
     "text": [
      "We have 1050 ratings from 10 users on 694 movies.\n",
      "\n",
      "We have 10 users, 3948 movies and the rating matrix has 2.659574 percent of non-zero value.\n",
      "\n"
     ]
    }
   ],
   "source": [
    "# Répertoire contenant le jeu de données\n",
    "movieLensHomeDir=\"./\"\n",
    "\n",
    "# ratings est un RDD du type (userID, movieID, rating)\n",
    "def parseRating(line):\n",
    "    fields = line.split('::')\n",
    "    return int(fields[0]), int(fields[1]), float(fields[2])\n",
    "\n",
    "ratingsRDD = sc.textFile(movieLensHomeDir + \"ratings_sub.dat\").map(parseRating).setName(\"ratings\").cache()\n",
    "\n",
    "# Calcul du nombre de ratings\n",
    "numRatings = ratingsRDD.count()\n",
    "# Calcul du nombre d'utilisateurs distincts\n",
    "numUsers = ratingsRDD.map(lambda r: r[0]).distinct().count()\n",
    "# Calcul du nombre de films distincts\n",
    "numMovies = ratingsRDD.map(lambda r: r[1]).distinct().count()\n",
    "print(\"We have %d ratings from %d users on %d movies.\\n\" % (numRatings, numUsers, numMovies))\n",
    "\n",
    "# Dimensions de la matrice R\n",
    "M = ratingsRDD.map(lambda r: r[0]).max()\n",
    "N = ratingsRDD.map(lambda r: r[1]).max()\n",
    "matrixSparsity = float(numRatings)/float(M*N)\n",
    "print(\"We have %d users, %d movies and the rating matrix has %f percent of non-zero value.\\n\" % (M, N, 100*matrixSparsity))"
   ]
  },
  {
   "cell_type": "markdown",
   "metadata": {},
   "source": [
    "Nous allons utiliser la routine ALS.train() de la librairie  [MLLib](http://spark.apache.org/docs/latest/ml-guide.html) et en évaluer la performance par un calcul de \" Mean Squared Error\" du  rating de prédiction.\n",
    "\n",
    "__Question 1__\n",
    "\n",
    "> Commenter les lignes de code suivantes en vous inspirant du code python http://spark.apache.org/docs/latest/mllib-collaborative-filtering.html#collaborative-filtering\n",
    "\n"
   ]
  },
  {
   "cell_type": "code",
   "execution_count": 3,
   "metadata": {},
   "outputs": [
    {
     "name": "stdout",
     "output_type": "stream",
     "text": [
      "Mean Squared Error = 0.0008901385182115905\n"
     ]
    }
   ],
   "source": [
    "from pyspark.mllib.recommendation import ALS, MatrixFactorizationModel, Rating\n",
    "\n",
    "# Construction du modèle de recommendations depuis l'approche \"Alternating Least Squares\"\n",
    "rank = 10\n",
    "numIterations = 10\n",
    "\n",
    "# Paramètres de la méthode Alternating Least Squares (ALS)\n",
    "# ratings – RDD de Rating ou tuple (userID, productID, rating).\n",
    "# rank – Rang de la matrice modèle.\n",
    "# iterations – Nombre d'itérations. (default: 5)\n",
    "# lambda_ – Paramètre de régularisation. (default: 0.01)\n",
    "model = ALS.train(ratingsRDD, rank, iterations=numIterations, lambda_=0.02)\n",
    "\n",
    "# Evaluation du modèle sur le jeu de données complet\n",
    "testdata = ratingsRDD.map(lambda p: (p[0], p[1]))\n",
    "predictions = model.predictAll(testdata).map(lambda r: ((r[0], r[1]), r[2]))\n",
    "\n",
    "ratesAndPreds = ratingsRDD.map(lambda r: ((r[0], r[1]), r[2])).join(predictions)\n",
    "MSE = ratesAndPreds.map(lambda r: ((r[1][0] - r[1][1]))**2).mean()\n",
    "print(\"Mean Squared Error = \" + str(MSE))"
   ]
  },
  {
   "cell_type": "code",
   "execution_count": 4,
   "metadata": {},
   "outputs": [],
   "source": [
    "# ratesAndPreds.foreach(print)"
   ]
  },
  {
   "cell_type": "markdown",
   "metadata": {},
   "source": [
    "#  Algorithmes de descente de gradient\n",
    "\n",
    "Le but de cette section est  \n",
    "1. de calculer le gradient de la fonction,\n",
    "2. d'implémenter une méthode de gradient,\n",
    "3. de mesurer la précision de cette méthode\n",
    "\n",
    "__Question 2__\n",
    "\n",
    "> Séparer le jeu de données en un jeu d'apprentissage (70%) et un jeu de test, en utilisant la fonction randomsplit ( http://spark.apache.org/docs/2.0.0/api/python/pyspark.html )\n",
    "\n",
    "> Compléter la routine ci-dessous qui retourne le \"rating\" prédit. Créer un RDD contenant `(i,j,true rating,predicted rating)`. \n",
    "\n",
    "> Compléter la routine qui calcule le Mean Square Error (MSE) sur le jeu de données.\n",
    "\n",
    "> Tester ensuite la routine de MSE en vous donnant les matrices $P$ et $Q$ aléatoires (utiliser np.random.rand(M,K)) et calculer quelques \"ratings\" prédits. \n",
    "\n"
   ]
  },
  {
   "cell_type": "code",
   "execution_count": 5,
   "metadata": {},
   "outputs": [],
   "source": [
    "# Séparation du jeu de données en un jeu d'apprentissage et un jeu de test\n",
    "# Taille du jeu d'apprentissage (en %) \n",
    "learningWeight = 0.7\n",
    "# TO DO\n",
    "# Création des RDD \"apprentissage\" et \"test\" depuis la fonction randomsplit\n",
    "trainRDD, testRDD = ratingsRDD.randomSplit([learningWeight, 1 - learningWeight], 17)\n",
    "\n",
    "# Calcul du rating préduit.\n",
    "def predictedRating(x, P, Q):\n",
    "    \"\"\" \n",
    "    This function computes predicted rating\n",
    "    Args:\n",
    "        x: tuple (UserID, MovieID, Rating)\n",
    "        P: user's features matrix (M by K)\n",
    "        Q: item's features matrix (N by K)\n",
    "    Returns:\n",
    "        predicted rating: l \n",
    "    \"\"\"\n",
    "    #### TO DO\n",
    "    p = P[x[0]-1]\n",
    "    q = Q[x[1]-1]\n",
    "    # q_t = q.T\n",
    "    #    q_t = q.transpose()\n",
    "    predicted = np.matmul(p, q)\n",
    "    l = predicted\n",
    "    # print(l)\n",
    "    # print(x[2])\n",
    "    return (x[0],x[1],x[2],l)\n",
    "\n",
    "# Calcul de l'erreur MSE \n",
    "def computeMSE(rdd, P, Q):\n",
    "    \"\"\" \n",
    "    This function computes Mean Square Error (MSE)\n",
    "    Args:\n",
    "        rdd: RDD(UserID, MovieID, Rating)\n",
    "        P: user's features matrix (M by K)\n",
    "        Q: item's features matrix (N by K)\n",
    "    Returns:\n",
    "        mse: mean square error \n",
    "    \"\"\" \n",
    "    ##### TO DO\n",
    "    # numRatings = rdd.count()\n",
    "    result = rdd.map(lambda r: (r[0], r[1], r[2]))\n",
    "    resulted = result.map(lambda p: predictedRating(p, P, Q))\n",
    "    #    resulted.foreach(print)\n",
    "    mse = resulted.map(lambda r: ((r[2] - r[3]))**2).mean()\n",
    "    return mse\n",
    "        "
   ]
  },
  {
   "cell_type": "code",
   "execution_count": 6,
   "metadata": {},
   "outputs": [
    {
     "name": "stdout",
     "output_type": "stream",
     "text": [
      "(1, 2, 3, 4.821326575056139)\n"
     ]
    }
   ],
   "source": [
    "L = np.array([1,2,3])\n",
    "O = np.array([2,9,0])\n",
    "predicted = np.matmul(L, O)\n",
    "#print(predicted)\n",
    "\n",
    "K = 20 \n",
    "# TO DO\n",
    "P = np.random.rand(M, K)\n",
    "Q = np.random.rand(N, K)\n",
    "print(predictedRating(L, P, Q))"
   ]
  },
  {
   "cell_type": "code",
   "execution_count": 7,
   "metadata": {},
   "outputs": [
    {
     "name": "stdout",
     "output_type": "stream",
     "text": [
      "Size of the training dataset: 743\n",
      "Size of the testing dataset: 307\n",
      "Voici l'erreur MSE pour des matrices P et Q random : \n",
      "(1, 2, 0, 5.0958819118897765)\n",
      "(1, 3, 0, 5.642740492310407)\n",
      "(1, 4, 0, 4.97585812237923)\n",
      "(1, 5, 0, 5.754960221799642)\n",
      "(1, 6, 0, 6.211753051063503)\n",
      "(1, 7, 0, 5.812285580104517)\n",
      "(1, 8, 0, 5.415013848057161)\n",
      "(1, 9, 0, 5.846318215576099)\n",
      "(1, 10, 0, 4.877631067843325)\n",
      "(1, 11, 0, 4.941870361968375)\n"
     ]
    }
   ],
   "source": [
    "# Tailles des jeux de données d'apprentissage et de tests.\n",
    "print(\"Size of the training dataset:\", trainRDD.count())\n",
    "print(\"Size of the testing dataset:\", testRDD.count())\n",
    "\n",
    "\n",
    "# Création de matrices aléatoires de dimension (M,K) et (N,K)\n",
    "K = 20 \n",
    "# TO DO\n",
    "P = np.random.rand(M, K)\n",
    "Q = np.random.rand(N, K)\n",
    "\n",
    "# Calcul et affichage de l'erreur MSE pour ces matrices aléatoires\n",
    "#### TO DO\n",
    "mseErr = computeMSE(ratingsRDD, P, Q)\n",
    "print(\"Voici l'erreur MSE pour des matrices P et Q random : \" % mseErr)\n",
    "\n",
    "# Affichage de quelques ratings prédits depuis ces matrices\n",
    "#### TO DO\n",
    "a = 0\n",
    "for i in range (1, M):\n",
    "    for j in range (1, N):\n",
    "            filtred =  testdata.filter(lambda x: x == (i,j))\n",
    "            if filtred.isEmpty() :\n",
    "                print(predictedRating((i,j,0),P,Q))\n",
    "                a += 1\n",
    "            if a == 10:\n",
    "                break\n",
    "    if a == 10:\n",
    "        break\n"
   ]
  },
  {
   "cell_type": "markdown",
   "metadata": {
    "collapsed": true
   },
   "source": [
    "__Question 3__\n",
    "\n",
    "> Donner la formule des dérivées des fonctions $\\ell_{i,j}$ selon $p_t$ et $q_s$ avec $1\\leq t\\leq m$ et $1\\leq s\\leq n$.\n",
    "\n",
    "> Commenter et compléter l'implantation de l'algorithme de gradient sur l'ensemble d'apprentissage. Prendre un pas égal à $\\gamma=0.001$ et arrêter sur un nombre maximum d'itérations. \n",
    "\n",
    "> Commenter les tracés de convergence et des indicateurs de qualité de la prévision en fonction de la dimension latente (rang de $P$ et $Q$)."
   ]
  },
  {
   "cell_type": "code",
   "execution_count": 8,
   "metadata": {},
   "outputs": [],
   "source": [
    "# Algorithem de descente de gradient pour la factorisation de matrices\n",
    "def GD(trainRDD, K=10, MAXITER=50, GAMMA=0.001, Lambda=0.05):\n",
    "    # Construction de la matrice R (creuse)\n",
    "    row=[]\n",
    "    col=[]\n",
    "    data=[]\n",
    "    for part in trainRDD.collect():\n",
    "        row.append(part[0]-1)\n",
    "        col.append(part[1]-1)\n",
    "        data.append(part[2])\n",
    "    R=sparse.csr_matrix((data, (row, col)))\n",
    "    \n",
    "    # Initialisation aléatoire des matrices P et Q\n",
    "    M,N = R.shape\n",
    "    P = np.random.rand(M,K)\n",
    "    Q = np.random.rand(N,K)\n",
    "    \n",
    "    # Calcul de l'erreur MSE initiale\n",
    "    mse=[]\n",
    "    mse_tmp = computeMSE(trainRDD, P, Q)\n",
    "    mse_avant = 0\n",
    "    mse.append(mse_tmp)\n",
    "    print(\"epoch: \", str(0), \" - MSE: \", str(mse_tmp))\n",
    "    \n",
    "    eps = 0.1\n",
    "    a = 1\n",
    "    \n",
    "    # Boucle\n",
    "    nonzero = R.nonzero()\n",
    "    nbNonZero = R.nonzero()[0].size\n",
    "    I,J = nonzero[0], nonzero[1]\n",
    "    for epoch in range(MAXITER):\n",
    "        #if ((mse_avant - mse_tmp) >= eps):   \n",
    "        if a == 1 :\n",
    "                for i,j in zip(I,J):\n",
    "                    # Mise à jour de P[i,:] et Q[j,:] par descente de gradient à pas fixe\n",
    "                    #### TO DO\n",
    "                    # Xk = np.concatenate((P[i],Q[j]), axis = 1)\n",
    "    \n",
    "                  #  gP1 = np.matmul(P[i,:],np.matmul(Q[j,:].transpose(),Q[j,:]) + Lambda*np.eye(K))\n",
    "                  #  gP2 = R[i,j]*Q[j,:].transpose()\n",
    "                    #gP2 = rij*Q[j]\n",
    "                  #  Grad_P = gP1 - gP2\n",
    "                 #  Grad_Q = np.matmul(Q[j,:],np.matmul(P[i,:].transpose(),P[i,:]) + Lambda*np.eye(K)) - (R[i,j] *P[i,:])\n",
    "                                \n",
    "                   \n",
    "                    Grad_P = -2*Q[j,:]*(R[i,j] - np.dot(np.transpose(Q[j,:]),P[i,:])) + 2*Lambda*P[i,:]\n",
    "                    Grad_Q = -2*P[i,:]*(R[i,j] - np.dot(np.transpose(Q[j,:]),P[i,:])) + 2*Lambda*Q[j,:]\n",
    "                    \n",
    "            \n",
    "            \n",
    "                    # gradf_xk = np.concatenate((Grad_P,Grad_Q), axis = 1)\n",
    "\n",
    "                    alphak = GAMMA\n",
    "                    P[i,:] = P[i,:] - alphak*Grad_P\n",
    "                    Q[j,:] = Q[j,:] - alphak*Grad_Q\n",
    "    \n",
    "\n",
    "                # Calcul de l'erreur MSE courante, et sauvegarde dans le tableau mse\n",
    "                #### TO DO\n",
    "                mse_avant = mse_tmp \n",
    "                mse_tmp = computeMSE(trainRDD, P, Q)\n",
    "                mse.append(mse_tmp)\n",
    "                print(mse_tmp)\n",
    "        \n",
    "    return P, Q, mse"
   ]
  },
  {
   "cell_type": "code",
   "execution_count": 9,
   "metadata": {
    "scrolled": false
   },
   "outputs": [
    {
     "name": "stdout",
     "output_type": "stream",
     "text": [
      "epoch:  0  - MSE:  2.511439285975043\n",
      "0.9634562847194226\n",
      "0.5739946872368988\n",
      "0.3758007978838113\n",
      "0.26791240257968607\n",
      "0.20519685516339173\n",
      "0.1650137010283594\n",
      "0.13644995303786625\n",
      "0.11457257188736432\n",
      "0.09724034810488992\n",
      "0.0834501285113306\n"
     ]
    }
   ],
   "source": [
    "# Calcul de P, Q et de la mse\n",
    "P,Q,mse = GD(trainRDD, K=10, MAXITER=10, GAMMA=0.024, Lambda=0.01)"
   ]
  },
  {
   "cell_type": "code",
   "execution_count": 11,
   "metadata": {},
   "outputs": [
    {
     "data": {
      "image/png": "[encoded data removed]",
      "text/plain": [
       "<Figure size 432x288 with 1 Axes>"
      ]
     },
     "metadata": {
      "needs_background": "light"
     },
     "output_type": "display_data"
    }
   ],
   "source": [
    "import matplotlib\n",
    "import matplotlib.pyplot as plt\n",
    "MAXITER = 10\n",
    "\n",
    "# Affichage de l'erreur MSE\n",
    "# plt.plot([mse[x][0] for x in range(MAXITER)],[mse[x][1] for x in range(MAXITER)])\n",
    "# plt.grid()\n",
    "#### TO DO\n",
    "# Data for plotting\n",
    "t = np.arange(0, MAXITER + 1, 1)\n",
    "s = 1 + np.sin(2 * np.pi * t)\n",
    "s = np.asarray(mse)\n",
    "\n",
    "fig, ax = plt.subplots()\n",
    "ax.plot(t, s)\n",
    "\n",
    "ax.set(xlabel='nombre Iteration', ylabel='MSE',\n",
    "       title='Evolution de la mse')\n",
    "ax.grid()\n",
    "\n",
    "fig.savefig(\"test.png\")\n",
    "plt.show()\n"
   ]
  },
  {
   "cell_type": "markdown",
   "metadata": {},
   "source": [
    "__Question 4__\n",
    "\n",
    "> Calculer les ratings prédits par la solution de la méthode du gradient dans un RDD\n",
    "\n",
    "> Comparer sur le jeu de test les valeurs prédites aux ratings sur 5 échantillons aléatoires."
   ]
  },
  {
   "cell_type": "code",
   "execution_count": 12,
   "metadata": {},
   "outputs": [
    {
     "name": "stdout",
     "output_type": "stream",
     "text": [
      "1.4887527105972649\n",
      "0.0834501285113306\n"
     ]
    }
   ],
   "source": [
    "# Calcul et affichage des ratings prédits\n",
    "#### TO DO\n",
    "\n",
    "# Calcul du rating préduit.\n",
    "\n",
    "# testdata = ratingsRDD.map(lambda p: (p[0], p[1]))\n",
    "predictedTrain = trainRDD.map(lambda r: predictedRating(r, P, Q))\n",
    "predictions1 = predictedTrain.map(lambda r: ((r[0], r[1]), r[3]))\n",
    "ratesAndPreds1 = trainRDD.map(lambda r: ((r[0], r[1]), r[2])).join(predictions1)\n",
    "MSE_train = ratesAndPreds1.map(lambda r: ((r[1][0] - r[1][1]))**2).mean()\n",
    "# predictions = model.predictAll(testdata).map(lambda r: ((r[0], r[1]), r[2]))\n",
    "\n",
    "predictedTest = testRDD.map(lambda r: predictedRating(r, P, Q))\n",
    "predictions = predictedTest.map(lambda r: ((r[0], r[1]), r[3]))\n",
    "ratesAndPreds = testRDD.map(lambda r: ((r[0], r[1]), r[2])).join(predictions)\n",
    "MSE_test = ratesAndPreds.map(lambda r: ((r[1][0] - r[1][1]))**2).mean()\n",
    "\n",
    "print(MSE_test)\n",
    "print(MSE_train)"
   ]
  },
  {
   "cell_type": "markdown",
   "metadata": {},
   "source": []
  },
  {
   "cell_type": "code",
   "execution_count": 13,
   "metadata": {},
   "outputs": [],
   "source": [
    "np.savetxt(\"P.csv\", P, delimiter=\",\")\n",
    "np.savetxt(\"Q.csv\", Q, delimiter=\",\")\n"
   ]
  },
  {
   "cell_type": "code",
   "execution_count": 17,
   "metadata": {},
   "outputs": [],
   "source": [
    "def readcsv(filename):\n",
    "    ifile = open(filename, \"rU\")\n",
    "    reader = csv.reader(ifile, delimiter=\";\")\n",
    "\n",
    "    rownum = 0\t\n",
    "    a = []\n",
    "\n",
    "    for row in reader:\n",
    "        a.append (row)\n",
    "        rownum += 1\n",
    "    \n",
    "    ifile.close()\n",
    "    return a"
   ]
  },
  {
   "cell_type": "code",
   "execution_count": 18,
   "metadata": {},
   "outputs": [
    {
     "name": "stderr",
     "output_type": "stream",
     "text": [
      "/home/youssef/anaconda3/lib/python3.7/site-packages/ipykernel_launcher.py:2: DeprecationWarning: 'U' mode is deprecated\n",
      "  \n"
     ]
    }
   ],
   "source": [
    "import csv\n",
    "P_csv = readcsv(\"P.csv\")"
   ]
  },
  {
   "cell_type": "code",
   "execution_count": null,
   "metadata": {},
   "outputs": [],
   "source": []
  },
  {
   "cell_type": "code",
   "execution_count": null,
   "metadata": {},
   "outputs": [],
   "source": []
  }
 ],
 "metadata": {
  "kernelspec": {
   "display_name": "Python 3",
   "language": "python",
   "name": "python3"
  },
  "language_info": {
   "codemirror_mode": {
    "name": "ipython",
    "version": 3
   },
   "file_extension": ".py",
   "mimetype": "text/x-python",
   "name": "python",
   "nbconvert_exporter": "python",
   "pygments_lexer": "ipython3",
   "version": "3.7.1"
  }
 },
 "nbformat": 4,
 "nbformat_minor": 1
}
